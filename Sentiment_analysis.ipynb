{
 "cells": [
  {
   "cell_type": "markdown",
   "id": "0c0c1cfa",
   "metadata": {},
   "source": [
    "<h1 style=\"text-align: center;\">Project No. 1 - N-Grams & Sentiment Analysis</h1>\n",
    "\n",
    "<h4 style=\"text-align: center;\">\n",
    "\n",
    "Esteban Gomez Valerio\n",
    "\n",
    "Roi Jared Flores Garza Stone\n",
    "\n",
    "Rafael Takata Garcia\n",
    "\n",
    "Text Mining - O2025_MAF3654H\n",
    "\n",
    "Ing. Juan Antonio Vega Fernández, M. Sc., M. T. Ed\n",
    "\n",
    "ITESO\n",
    "</h4>"
   ]
  },
  {
   "cell_type": "markdown",
   "id": "b16431df",
   "metadata": {},
   "source": [
    "#### Libraries"
   ]
  },
  {
   "cell_type": "code",
   "execution_count": 39,
   "id": "7113aefd",
   "metadata": {},
   "outputs": [],
   "source": [
    "import pandas as pd\n",
    "from datasets import load_dataset"
   ]
  },
  {
   "cell_type": "markdown",
   "id": "c3e22403",
   "metadata": {},
   "source": [
    "#### Dataset\n",
    "\n",
    "In this case, we charge the data directly from Hugging Face using the load_dataset function"
   ]
  },
  {
   "cell_type": "code",
   "execution_count": 40,
   "id": "63d192a1",
   "metadata": {},
   "outputs": [],
   "source": [
    "imdb_data = load_dataset(\"imdb\")"
   ]
  },
  {
   "cell_type": "code",
   "execution_count": 41,
   "id": "0bdc16e3",
   "metadata": {},
   "outputs": [
    {
     "data": {
      "text/plain": [
       "((25000, 2), (25000, 2), (50000, 2))"
      ]
     },
     "execution_count": 41,
     "metadata": {},
     "output_type": "execute_result"
    }
   ],
   "source": [
    "train = pd.DataFrame(imdb_data['train'])\n",
    "test = pd.DataFrame(imdb_data['test'])\n",
    "dev_data = pd.DataFrame(imdb_data['unsupervised'])\n",
    "train.shape, test.shape, dev_data.shape"
   ]
  },
  {
   "cell_type": "markdown",
   "id": "c436b559",
   "metadata": {},
   "source": [
    "#### Data preprocessing\n",
    "\n"
   ]
  },
  {
   "cell_type": "code",
   "execution_count": null,
   "id": "f4de29eb",
   "metadata": {},
   "outputs": [],
   "source": []
  },
  {
   "cell_type": "markdown",
   "id": "f4f0621c",
   "metadata": {},
   "source": []
  }
 ],
 "metadata": {
  "kernelspec": {
   "display_name": "sentiment-analysis-with-ngrams",
   "language": "python",
   "name": "python3"
  },
  "language_info": {
   "codemirror_mode": {
    "name": "ipython",
    "version": 3
   },
   "file_extension": ".py",
   "mimetype": "text/x-python",
   "name": "python",
   "nbconvert_exporter": "python",
   "pygments_lexer": "ipython3",
   "version": "3.12.4"
  }
 },
 "nbformat": 4,
 "nbformat_minor": 5
}
