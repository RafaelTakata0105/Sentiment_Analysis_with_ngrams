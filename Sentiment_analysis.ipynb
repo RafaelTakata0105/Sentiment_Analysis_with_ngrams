{
 "cells": [
  {
   "cell_type": "markdown",
   "id": "0c0c1cfa",
   "metadata": {},
   "source": [
    "<h1 style=\"text-align: center;\">Project No. 1 - N-Grams & Sentiment Analysis</h1>\n",
    "\n",
    "<h4 style=\"text-align: center;\">\n",
    "\n",
    "Esteban Gomez Valerio\n",
    "\n",
    "Roi Jared Flores Garza Stone\n",
    "\n",
    "Rafael Takata Garcia\n",
    "\n",
    "Text Mining - O2025_MAF3654H\n",
    "\n",
    "Ing. Juan Antonio Vega Fernández, M. Sc., M. T. Ed\n",
    "\n",
    "ITESO\n",
    "</h4>"
   ]
  },
  {
   "cell_type": "markdown",
   "id": "b16431df",
   "metadata": {},
   "source": [
    "#### Libraries"
   ]
  },
  {
   "cell_type": "code",
   "execution_count": null,
   "id": "7113aefd",
   "metadata": {
    "vscode": {
     "languageId": "plaintext"
    }
   },
   "outputs": [],
   "source": [
    "import torchtext\n"
   ]
  },
  {
   "cell_type": "markdown",
   "id": "c3e22403",
   "metadata": {},
   "source": [
    "#### Dataset"
   ]
  },
  {
   "cell_type": "code",
   "execution_count": null,
   "id": "f3ab46df",
   "metadata": {
    "vscode": {
     "languageId": "plaintext"
    }
   },
   "outputs": [],
   "source": [
    "imdb_data =  torchtext.datasets.IMDB"
   ]
  },
  {
   "cell_type": "markdown",
   "id": "f4f0621c",
   "metadata": {},
   "source": []
  }
 ],
 "metadata": {
  "language_info": {
   "name": "python"
  }
 },
 "nbformat": 4,
 "nbformat_minor": 5
}
